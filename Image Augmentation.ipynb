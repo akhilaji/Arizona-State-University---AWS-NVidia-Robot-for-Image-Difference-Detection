{
 "cells": [
  {
   "cell_type": "code",
   "execution_count": 2,
   "metadata": {},
   "outputs": [],
   "source": [
    "import cv2\n",
    "import os \n",
    "import numpy as np\n",
    "import keras\n",
    "from keras.callbacks import EarlyStopping\n",
    "from keras.layers.normalization import BatchNormalization\n",
    "from keras.models import Sequential\n",
    "from keras.layers import Dense, Dropout, Flatten\n",
    "from keras.layers import Conv2D, MaxPooling2D\n",
    "from keras.optimizers import Adam\n",
    "import matplotlib.pyplot as plt\n",
    "import matplotlib.image as mpimg\n",
    "from sklearn.utils import shuffle\n",
    "from sklearn.model_selection import train_test_split\n",
    "import pandas as pd \n",
    "import random\n",
    "from random import shuffle\n",
    "from tqdm import tqdm"
   ]
  },
  {
   "cell_type": "code",
   "execution_count": null,
   "metadata": {},
   "outputs": [],
   "source": [
    "#load data into X_train, y_train; X_test, y_test ;X_valid, y_valid before running cells below  "
   ]
  },
  {
   "cell_type": "code",
   "execution_count": null,
   "metadata": {},
   "outputs": [],
   "source": [
    "#open images\n",
    "plt.imshow(X_train[1000])\n",
    "plt.axis(\"off\")\n",
    "print(X_train[1000].shape)\n",
    "print(y_train[1000])\n",
    "\n",
    "def grayscale(img):\n",
    "    img = cv2.cvtColor(img, cv2.COLOR_BGR2GRAY)\n",
    "    return img\n",
    "img=grayscale(X_train[1000])\n",
    "plt.imshow(img)\n",
    "plt.axis(\"off\")\n",
    "print(img.shape)\n",
    "\n",
    "#histogram equalization\n",
    "def equalize(img):\n",
    "  #function only accepts grayscale images\n",
    "  img = cv2.equalizeHist(img)\n",
    "  return img\n",
    "img = equalize(img)\n",
    "plt.imshow(img)\n",
    "plt.axis(\"off\")\n",
    "print(img.shape)"
   ]
  },
  {
   "cell_type": "code",
   "execution_count": null,
   "metadata": {},
   "outputs": [],
   "source": [
    "def preprocessing(img):\n",
    "  img = grayscale(img)\n",
    "  img = equalize(img)\n",
    "  img = img/255\n",
    "  return img\n",
    "\n",
    "X_train = np.array(list(map(preprocessing, X_train)))\n",
    "X_val = np.array(list(map(preprocessing, X_val)))\n",
    "X_test = np.array(list(map(preprocessing, X_test)))"
   ]
  },
  {
   "cell_type": "code",
   "execution_count": null,
   "metadata": {},
   "outputs": [],
   "source": [
    "plt.imshow(X_train[random.randint(0,len(X_train)-1)])\n",
    "plt.axis(\"off\")\n",
    "print(X_train.shape)"
   ]
  },
  {
   "cell_type": "code",
   "execution_count": null,
   "metadata": {},
   "outputs": [],
   "source": [
    "from keras.preprocessing.image import ImageDataGenerator\n",
    "datagen = ImageDataGenerator(width_shift_range =0.1, height_shift_range=0.1, zoom_range=0.2, shear_range=0.1, rotation_range=10)\n",
    "datagen.fit(X_train)"
   ]
  },
  {
   "cell_type": "code",
   "execution_count": null,
   "metadata": {},
   "outputs": [],
   "source": [
    "batches = datagen.flow(X_train, y_train , batch_size=20)\n",
    "x_batch, y_batch = next(batches)\n",
    "fig, axs = plt.subplots(1,15,figsize= (20,5))\n",
    "fig.tight_layout()\n",
    "\n",
    "for i in range(15):\n",
    "  axs[i].imshow(x_batch[i].reshape(32,32))\n",
    "  axs[i].axis('off')"
   ]
  }
 ],
 "metadata": {
  "kernelspec": {
   "display_name": "Python 3",
   "language": "python",
   "name": "python3"
  },
  "language_info": {
   "codemirror_mode": {
    "name": "ipython",
    "version": 3
   },
   "file_extension": ".py",
   "mimetype": "text/x-python",
   "name": "python",
   "nbconvert_exporter": "python",
   "pygments_lexer": "ipython3",
   "version": "3.7.4"
  }
 },
 "nbformat": 4,
 "nbformat_minor": 4
}

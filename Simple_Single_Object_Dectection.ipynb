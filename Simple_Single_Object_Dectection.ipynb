{
 "cells": [
  {
   "cell_type": "code",
   "execution_count": 4,
   "metadata": {},
   "outputs": [],
   "source": [
    "from tensorflow.keras.applications.vgg16 import VGG16, preprocess_input, decode_predictions\n",
    "from tensorflow.keras.preprocessing.image import load_img, img_to_array"
   ]
  },
  {
   "cell_type": "code",
   "execution_count": 7,
   "metadata": {},
   "outputs": [
    {
     "name": "stdout",
     "output_type": "stream",
     "text": [
      "Downloading data from https://storage.googleapis.com/tensorflow/keras-applications/vgg16/vgg16_weights_tf_dim_ordering_tf_kernels.h5\n",
      "553467904/553467096 [==============================] - 51s 0us/step\n",
      "Model: \"vgg16\"\n",
      "_________________________________________________________________\n",
      "Layer (type)                 Output Shape              Param #   \n",
      "=================================================================\n",
      "input_1 (InputLayer)         [(None, 224, 224, 3)]     0         \n",
      "_________________________________________________________________\n",
      "block1_conv1 (Conv2D)        (None, 224, 224, 64)      1792      \n",
      "_________________________________________________________________\n",
      "block1_conv2 (Conv2D)        (None, 224, 224, 64)      36928     \n",
      "_________________________________________________________________\n",
      "block1_pool (MaxPooling2D)   (None, 112, 112, 64)      0         \n",
      "_________________________________________________________________\n",
      "block2_conv1 (Conv2D)        (None, 112, 112, 128)     73856     \n",
      "_________________________________________________________________\n",
      "block2_conv2 (Conv2D)        (None, 112, 112, 128)     147584    \n",
      "_________________________________________________________________\n",
      "block2_pool (MaxPooling2D)   (None, 56, 56, 128)       0         \n",
      "_________________________________________________________________\n",
      "block3_conv1 (Conv2D)        (None, 56, 56, 256)       295168    \n",
      "_________________________________________________________________\n",
      "block3_conv2 (Conv2D)        (None, 56, 56, 256)       590080    \n",
      "_________________________________________________________________\n",
      "block3_conv3 (Conv2D)        (None, 56, 56, 256)       590080    \n",
      "_________________________________________________________________\n",
      "block3_pool (MaxPooling2D)   (None, 28, 28, 256)       0         \n",
      "_________________________________________________________________\n",
      "block4_conv1 (Conv2D)        (None, 28, 28, 512)       1180160   \n",
      "_________________________________________________________________\n",
      "block4_conv2 (Conv2D)        (None, 28, 28, 512)       2359808   \n",
      "_________________________________________________________________\n",
      "block4_conv3 (Conv2D)        (None, 28, 28, 512)       2359808   \n",
      "_________________________________________________________________\n",
      "block4_pool (MaxPooling2D)   (None, 14, 14, 512)       0         \n",
      "_________________________________________________________________\n",
      "block5_conv1 (Conv2D)        (None, 14, 14, 512)       2359808   \n",
      "_________________________________________________________________\n",
      "block5_conv2 (Conv2D)        (None, 14, 14, 512)       2359808   \n",
      "_________________________________________________________________\n",
      "block5_conv3 (Conv2D)        (None, 14, 14, 512)       2359808   \n",
      "_________________________________________________________________\n",
      "block5_pool (MaxPooling2D)   (None, 7, 7, 512)         0         \n",
      "_________________________________________________________________\n",
      "flatten (Flatten)            (None, 25088)             0         \n",
      "_________________________________________________________________\n",
      "fc1 (Dense)                  (None, 4096)              102764544 \n",
      "_________________________________________________________________\n",
      "fc2 (Dense)                  (None, 4096)              16781312  \n",
      "_________________________________________________________________\n",
      "predictions (Dense)          (None, 1000)              4097000   \n",
      "=================================================================\n",
      "Total params: 138,357,544\n",
      "Trainable params: 138,357,544\n",
      "Non-trainable params: 0\n",
      "_________________________________________________________________\n"
     ]
    }
   ],
   "source": [
    "#load imported model\n",
    "model = VGG16()\n",
    "model.summary()"
   ]
  },
  {
   "cell_type": "code",
   "execution_count": 8,
   "metadata": {},
   "outputs": [],
   "source": [
    "import os"
   ]
  },
  {
   "cell_type": "code",
   "execution_count": 20,
   "metadata": {},
   "outputs": [
    {
     "name": "stdout",
     "output_type": "stream",
     "text": [
      "monitor2.jpg\n",
      "./data/monitor2.jpg\n",
      "[[('n03782006', 'monitor', 0.39467865), ('n03180011', 'desktop_computer', 0.30316553)]]\n",
      "\n",
      "keyboard.jpg\n",
      "./data/keyboard.jpg\n",
      "[[('n03777754', 'modem', 0.53673124), ('n02978881', 'cassette', 0.074002154)]]\n",
      "\n",
      ".keep\n",
      "monitor.jpg\n",
      "./data/monitor.jpg\n",
      "[[('n03180011', 'desktop_computer', 0.4215236), ('n03782006', 'monitor', 0.21120013)]]\n",
      "\n",
      "apple.jpg\n",
      "./data/apple.jpg\n",
      "[[('n07768694', 'pomegranate', 0.8266404), ('n07745940', 'strawberry', 0.10019444)]]\n",
      "\n",
      "output.png\n",
      "car.jpg\n",
      "./data/car.jpg\n",
      "[[('n04285008', 'sports_car', 0.83918244), ('n02814533', 'beach_wagon', 0.08632251)]]\n",
      "\n",
      ".ipynb_checkpoints\n",
      "desk_setup.jpg\n",
      "./data/desk_setup.jpg\n",
      "[[('n03179701', 'desk', 0.43335515), ('n03180011', 'desktop_computer', 0.118188776)]]\n",
      "\n",
      "pizza.jpg\n",
      "./data/pizza.jpg\n",
      "[[('n07873807', 'pizza', 0.6265329), ('n07684084', 'French_loaf', 0.23967569)]]\n",
      "\n",
      "image.jpg\n",
      "./data/image.jpg\n",
      "[[('n03179701', 'desk', 0.38952667), ('n03924679', 'photocopier', 0.17221694)]]\n",
      "\n"
     ]
    }
   ],
   "source": [
    "for file in os.listdir('data'):\n",
    "    print(file)\n",
    "    filepath = \"./data/\" + file\n",
    "    if filepath.endswith('.jpg' or '.png'):\n",
    "        print(filepath)\n",
    "        img = load_img(filepath, target_size =(224,224))\n",
    "        img = img_to_array(img)\n",
    "        img = img.reshape(1, img.shape[0],img.shape[1],img.shape[2])\n",
    "        img = preprocess_input(img)\n",
    "        y_pred = model.predict(img)\n",
    "        label = decode_predictions(y_pred, top=2)\n",
    "        print(label)\n",
    "        print()"
   ]
  },
  {
   "cell_type": "code",
   "execution_count": null,
   "metadata": {},
   "outputs": [],
   "source": []
  }
 ],
 "metadata": {
  "kernelspec": {
   "display_name": "Python 3",
   "language": "python",
   "name": "python3"
  },
  "language_info": {
   "codemirror_mode": {
    "name": "ipython",
    "version": 3
   },
   "file_extension": ".py",
   "mimetype": "text/x-python",
   "name": "python",
   "nbconvert_exporter": "python",
   "pygments_lexer": "ipython3",
   "version": "3.8.3"
  }
 },
 "nbformat": 4,
 "nbformat_minor": 4
}

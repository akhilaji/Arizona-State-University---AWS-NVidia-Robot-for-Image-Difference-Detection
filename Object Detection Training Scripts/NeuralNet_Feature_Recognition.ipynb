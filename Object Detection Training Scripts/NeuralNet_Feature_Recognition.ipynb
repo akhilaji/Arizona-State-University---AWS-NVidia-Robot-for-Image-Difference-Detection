{
 "cells": [
  {
   "cell_type": "code",
   "execution_count": 20,
   "metadata": {},
   "outputs": [],
   "source": [
    "import os\n",
    "import pathlib\n",
    "import io\n",
    "from io import StringIO\n",
    "import pandas as pd\n",
    "import tensorflow as tf\n",
    "import numpy as np\n",
    "import tarfile\n",
    "import zipfile\n",
    "from collections import defaultdict\n",
    "\n",
    "import keras\n",
    "import random\n",
    "import matplotlib.pyplot as plt\n",
    "import cv2\n",
    "import argparse\n",
    "import pdb\n",
    "import PIL.Image as PILI\n",
    "from PIL import Image\n",
    "from IPython.display import display\n",
    "\n"
   ]
  },
  {
   "cell_type": "code",
   "execution_count": 21,
   "metadata": {},
   "outputs": [
    {
     "name": "stdout",
     "output_type": "stream",
     "text": [
      "\n"
     ]
    }
   ],
   "source": [
    "#Check if Tensorflow is using gpu\n",
    "print(tf.test.gpu_device_name())"
   ]
  },
  {
   "cell_type": "code",
   "execution_count": 22,
   "metadata": {},
   "outputs": [
    {
     "name": "stdout",
     "output_type": "stream",
     "text": [
      "Requirement already satisfied: pycocotools in c:\\python38\\lib\\site-packages (2.0.2)\n",
      "Requirement already satisfied: cython>=0.27.3 in c:\\python38\\lib\\site-packages (from pycocotools) (0.29.21)\n",
      "Requirement already satisfied: setuptools>=18.0 in c:\\python38\\lib\\site-packages (from pycocotools) (41.2.0)\n",
      "Requirement already satisfied: matplotlib>=2.1.0 in c:\\python38\\lib\\site-packages (from pycocotools) (3.3.2)\n",
      "Requirement already satisfied: pillow>=6.2.0 in c:\\python38\\lib\\site-packages (from matplotlib>=2.1.0->pycocotools) (7.2.0)\n",
      "Requirement already satisfied: cycler>=0.10 in c:\\python38\\lib\\site-packages (from matplotlib>=2.1.0->pycocotools) (0.10.0)\n",
      "Requirement already satisfied: certifi>=2020.06.20 in c:\\python38\\lib\\site-packages (from matplotlib>=2.1.0->pycocotools) (2020.6.20)\n",
      "Requirement already satisfied: python-dateutil>=2.1 in c:\\python38\\lib\\site-packages (from matplotlib>=2.1.0->pycocotools) (2.8.1)\n",
      "Requirement already satisfied: pyparsing!=2.0.4,!=2.1.2,!=2.1.6,>=2.0.3 in c:\\python38\\lib\\site-packages (from matplotlib>=2.1.0->pycocotools) (2.4.7)\n",
      "Requirement already satisfied: kiwisolver>=1.0.1 in c:\\python38\\lib\\site-packages (from matplotlib>=2.1.0->pycocotools) (1.2.0)\n",
      "Requirement already satisfied: numpy>=1.15 in c:\\python38\\lib\\site-packages (from matplotlib>=2.1.0->pycocotools) (1.18.5)\n",
      "Requirement already satisfied: six in c:\\python38\\lib\\site-packages (from cycler>=0.10->matplotlib>=2.1.0->pycocotools) (1.15.0)\n",
      "Requirement already satisfied: object_detection in c:\\python38\\lib\\site-packages (0.0.3)\n",
      "Requirement already satisfied: contextlib2 in c:\\python38\\lib\\site-packages (from object_detection) (0.6.0.post1)\n",
      "Requirement already satisfied: Cython in c:\\python38\\lib\\site-packages (from object_detection) (0.29.21)\n",
      "Requirement already satisfied: matplotlib in c:\\python38\\lib\\site-packages (from object_detection) (3.3.2)\n",
      "Requirement already satisfied: jupyter in c:\\python38\\lib\\site-packages (from object_detection) (1.0.0)\n",
      "Requirement already satisfied: tensorflow in c:\\python38\\lib\\site-packages (from object_detection) (2.3.1)\n",
      "Requirement already satisfied: lxml in c:\\python38\\lib\\site-packages (from object_detection) (4.5.2)\n",
      "Requirement already satisfied: pillow in c:\\python38\\lib\\site-packages (from object_detection) (7.2.0)\n",
      "Requirement already satisfied: kiwisolver>=1.0.1 in c:\\python38\\lib\\site-packages (from matplotlib->object_detection) (1.2.0)\n",
      "Requirement already satisfied: certifi>=2020.06.20 in c:\\python38\\lib\\site-packages (from matplotlib->object_detection) (2020.6.20)\n",
      "Requirement already satisfied: pyparsing!=2.0.4,!=2.1.2,!=2.1.6,>=2.0.3 in c:\\python38\\lib\\site-packages (from matplotlib->object_detection) (2.4.7)\n",
      "Requirement already satisfied: cycler>=0.10 in c:\\python38\\lib\\site-packages (from matplotlib->object_detection) (0.10.0)\n",
      "Requirement already satisfied: python-dateutil>=2.1 in c:\\python38\\lib\\site-packages (from matplotlib->object_detection) (2.8.1)\n",
      "Requirement already satisfied: numpy>=1.15 in c:\\python38\\lib\\site-packages (from matplotlib->object_detection) (1.18.5)\n",
      "Requirement already satisfied: qtconsole in c:\\python38\\lib\\site-packages (from jupyter->object_detection) (4.7.7)\n",
      "Requirement already satisfied: notebook in c:\\python38\\lib\\site-packages (from jupyter->object_detection) (6.1.4)\n",
      "Requirement already satisfied: nbconvert in c:\\python38\\lib\\site-packages (from jupyter->object_detection) (6.0.6)\n",
      "Requirement already satisfied: ipykernel in c:\\python38\\lib\\site-packages (from jupyter->object_detection) (5.3.4)\n",
      "Requirement already satisfied: jupyter-console in c:\\python38\\lib\\site-packages (from jupyter->object_detection) (6.2.0)\n",
      "Requirement already satisfied: ipywidgets in c:\\python38\\lib\\site-packages (from jupyter->object_detection) (7.5.1)\n",
      "Requirement already satisfied: tensorboard<3,>=2.3.0 in c:\\python38\\lib\\site-packages (from tensorflow->object_detection) (2.3.0)\n",
      "Requirement already satisfied: six>=1.12.0 in c:\\python38\\lib\\site-packages (from tensorflow->object_detection) (1.15.0)\n",
      "Requirement already satisfied: google-pasta>=0.1.8 in c:\\python38\\lib\\site-packages (from tensorflow->object_detection) (0.2.0)\n",
      "Requirement already satisfied: tensorflow-estimator<2.4.0,>=2.3.0 in c:\\python38\\lib\\site-packages (from tensorflow->object_detection) (2.3.0)\n",
      "Requirement already satisfied: grpcio>=1.8.6 in c:\\python38\\lib\\site-packages (from tensorflow->object_detection) (1.32.0)\n",
      "Requirement already satisfied: astunparse==1.6.3 in c:\\python38\\lib\\site-packages (from tensorflow->object_detection) (1.6.3)\n",
      "Requirement already satisfied: gast==0.3.3 in c:\\python38\\lib\\site-packages (from tensorflow->object_detection) (0.3.3)\n",
      "Requirement already satisfied: termcolor>=1.1.0 in c:\\python38\\lib\\site-packages (from tensorflow->object_detection) (1.1.0)\n",
      "Requirement already satisfied: wheel>=0.26 in c:\\python38\\lib\\site-packages (from tensorflow->object_detection) (0.35.1)\n",
      "Requirement already satisfied: h5py<2.11.0,>=2.10.0 in c:\\python38\\lib\\site-packages (from tensorflow->object_detection) (2.10.0)\n",
      "Requirement already satisfied: absl-py>=0.7.0 in c:\\python38\\lib\\site-packages (from tensorflow->object_detection) (0.10.0)\n",
      "Requirement already satisfied: wrapt>=1.11.1 in c:\\python38\\lib\\site-packages (from tensorflow->object_detection) (1.12.1)\n",
      "Requirement already satisfied: keras-preprocessing<1.2,>=1.1.1 in c:\\python38\\lib\\site-packages (from tensorflow->object_detection) (1.1.2)\n",
      "Requirement already satisfied: opt-einsum>=2.3.2 in c:\\python38\\lib\\site-packages (from tensorflow->object_detection) (3.3.0)\n",
      "Requirement already satisfied: protobuf>=3.9.2 in c:\\python38\\lib\\site-packages (from tensorflow->object_detection) (3.13.0)\n",
      "Requirement already satisfied: pygments in c:\\python38\\lib\\site-packages (from qtconsole->jupyter->object_detection) (2.3.1)\n",
      "Requirement already satisfied: traitlets in c:\\python38\\lib\\site-packages (from qtconsole->jupyter->object_detection) (5.0.4)\n",
      "Requirement already satisfied: ipython-genutils in c:\\python38\\lib\\site-packages (from qtconsole->jupyter->object_detection) (0.2.0)\n",
      "Requirement already satisfied: qtpy in c:\\python38\\lib\\site-packages (from qtconsole->jupyter->object_detection) (1.9.0)\n",
      "Requirement already satisfied: jupyter-core in c:\\python38\\lib\\site-packages (from qtconsole->jupyter->object_detection) (4.6.3)\n",
      "Requirement already satisfied: jupyter-client>=4.1 in c:\\python38\\lib\\site-packages (from qtconsole->jupyter->object_detection) (6.1.7)\n",
      "Requirement already satisfied: pyzmq>=17.1 in c:\\python38\\lib\\site-packages (from qtconsole->jupyter->object_detection) (19.0.2)\n",
      "Requirement already satisfied: Send2Trash in c:\\python38\\lib\\site-packages (from notebook->jupyter->object_detection) (1.5.0)\n",
      "Requirement already satisfied: argon2-cffi in c:\\python38\\lib\\site-packages (from notebook->jupyter->object_detection) (20.1.0)\n",
      "Requirement already satisfied: prometheus-client in c:\\python38\\lib\\site-packages (from notebook->jupyter->object_detection) (0.8.0)\n",
      "Requirement already satisfied: nbformat in c:\\python38\\lib\\site-packages (from notebook->jupyter->object_detection) (5.0.7)\n",
      "Requirement already satisfied: tornado>=5.0 in c:\\python38\\lib\\site-packages (from notebook->jupyter->object_detection) (6.0.4)\n",
      "Requirement already satisfied: terminado>=0.8.3 in c:\\python38\\lib\\site-packages (from notebook->jupyter->object_detection) (0.9.1)\n",
      "Requirement already satisfied: jinja2 in c:\\python38\\lib\\site-packages (from notebook->jupyter->object_detection) (2.11.2)\n",
      "Requirement already satisfied: testpath in c:\\python38\\lib\\site-packages (from nbconvert->jupyter->object_detection) (0.4.4)\n",
      "Requirement already satisfied: bleach in c:\\python38\\lib\\site-packages (from nbconvert->jupyter->object_detection) (3.2.1)\n",
      "Requirement already satisfied: defusedxml in c:\\python38\\lib\\site-packages (from nbconvert->jupyter->object_detection) (0.6.0)\n",
      "Requirement already satisfied: mistune<2,>=0.8.1 in c:\\python38\\lib\\site-packages (from nbconvert->jupyter->object_detection) (0.8.4)\n",
      "Requirement already satisfied: pandocfilters>=1.4.1 in c:\\python38\\lib\\site-packages (from nbconvert->jupyter->object_detection) (1.4.2)\n",
      "Requirement already satisfied: entrypoints>=0.2.2 in c:\\python38\\lib\\site-packages (from nbconvert->jupyter->object_detection) (0.3)\n",
      "Requirement already satisfied: nbclient<0.6.0,>=0.5.0 in c:\\python38\\lib\\site-packages (from nbconvert->jupyter->object_detection) (0.5.0)\n",
      "Requirement already satisfied: jupyterlab-pygments in c:\\python38\\lib\\site-packages (from nbconvert->jupyter->object_detection) (0.1.2)\n",
      "Requirement already satisfied: ipython>=5.0.0 in c:\\python38\\lib\\site-packages (from ipykernel->jupyter->object_detection) (7.18.1)\n",
      "Requirement already satisfied: prompt-toolkit!=3.0.0,!=3.0.1,<3.1.0,>=2.0.0 in c:\\python38\\lib\\site-packages (from jupyter-console->jupyter->object_detection) (2.0.10)\n",
      "Requirement already satisfied: widgetsnbextension~=3.5.0 in c:\\python38\\lib\\site-packages (from ipywidgets->jupyter->object_detection) (3.5.1)\n",
      "Requirement already satisfied: werkzeug>=0.11.15 in c:\\python38\\lib\\site-packages (from tensorboard<3,>=2.3.0->tensorflow->object_detection) (1.0.1)\n",
      "Requirement already satisfied: google-auth-oauthlib<0.5,>=0.4.1 in c:\\python38\\lib\\site-packages (from tensorboard<3,>=2.3.0->tensorflow->object_detection) (0.4.1)\n",
      "Requirement already satisfied: google-auth<2,>=1.6.3 in c:\\python38\\lib\\site-packages (from tensorboard<3,>=2.3.0->tensorflow->object_detection) (1.22.0)\n",
      "Requirement already satisfied: setuptools>=41.0.0 in c:\\python38\\lib\\site-packages (from tensorboard<3,>=2.3.0->tensorflow->object_detection) (41.2.0)\n",
      "Requirement already satisfied: tensorboard-plugin-wit>=1.6.0 in c:\\python38\\lib\\site-packages (from tensorboard<3,>=2.3.0->tensorflow->object_detection) (1.7.0)\n",
      "Requirement already satisfied: markdown>=2.6.8 in c:\\python38\\lib\\site-packages (from tensorboard<3,>=2.3.0->tensorflow->object_detection) (3.2.2)\n",
      "Requirement already satisfied: requests<3,>=2.21.0 in c:\\python38\\lib\\site-packages (from tensorboard<3,>=2.3.0->tensorflow->object_detection) (2.24.0)\n",
      "Requirement already satisfied: pywin32>=1.0; sys_platform == \"win32\" in c:\\python38\\lib\\site-packages (from jupyter-core->qtconsole->jupyter->object_detection) (228)\n",
      "Requirement already satisfied: cffi>=1.0.0 in c:\\python38\\lib\\site-packages (from argon2-cffi->notebook->jupyter->object_detection) (1.14.3)\n",
      "Requirement already satisfied: jsonschema!=2.5.0,>=2.4 in c:\\python38\\lib\\site-packages (from nbformat->notebook->jupyter->object_detection) (3.2.0)\n",
      "Requirement already satisfied: pywinpty>=0.5; os_name == \"nt\" in c:\\python38\\lib\\site-packages (from terminado>=0.8.3->notebook->jupyter->object_detection) (0.5.7)\n",
      "Requirement already satisfied: MarkupSafe>=0.23 in c:\\python38\\lib\\site-packages (from jinja2->notebook->jupyter->object_detection) (1.1.1)\n",
      "Requirement already satisfied: packaging in c:\\python38\\lib\\site-packages (from bleach->nbconvert->jupyter->object_detection) (20.4)\n",
      "Requirement already satisfied: webencodings in c:\\python38\\lib\\site-packages (from bleach->nbconvert->jupyter->object_detection) (0.5.1)\n",
      "Requirement already satisfied: async-generator in c:\\python38\\lib\\site-packages (from nbclient<0.6.0,>=0.5.0->nbconvert->jupyter->object_detection) (1.10)\n",
      "Requirement already satisfied: nest-asyncio in c:\\python38\\lib\\site-packages (from nbclient<0.6.0,>=0.5.0->nbconvert->jupyter->object_detection) (1.4.1)\n",
      "Requirement already satisfied: pickleshare in c:\\python38\\lib\\site-packages (from ipython>=5.0.0->ipykernel->jupyter->object_detection) (0.7.5)\n",
      "Requirement already satisfied: decorator in c:\\python38\\lib\\site-packages (from ipython>=5.0.0->ipykernel->jupyter->object_detection) (4.4.2)\n",
      "Requirement already satisfied: backcall in c:\\python38\\lib\\site-packages (from ipython>=5.0.0->ipykernel->jupyter->object_detection) (0.2.0)\n",
      "Requirement already satisfied: colorama; sys_platform == \"win32\" in c:\\python38\\lib\\site-packages (from ipython>=5.0.0->ipykernel->jupyter->object_detection) (0.4.3)\n",
      "Requirement already satisfied: jedi>=0.10 in c:\\python38\\lib\\site-packages (from ipython>=5.0.0->ipykernel->jupyter->object_detection) (0.17.2)\n",
      "Requirement already satisfied: wcwidth in c:\\python38\\lib\\site-packages (from prompt-toolkit!=3.0.0,!=3.0.1,<3.1.0,>=2.0.0->jupyter-console->jupyter->object_detection) (0.2.5)\n",
      "Requirement already satisfied: requests-oauthlib>=0.7.0 in c:\\python38\\lib\\site-packages (from google-auth-oauthlib<0.5,>=0.4.1->tensorboard<3,>=2.3.0->tensorflow->object_detection) (1.3.0)\n",
      "Requirement already satisfied: aiohttp<4.0.0dev,>=3.6.2; python_version >= \"3.6\" in c:\\python38\\lib\\site-packages (from google-auth<2,>=1.6.3->tensorboard<3,>=2.3.0->tensorflow->object_detection) (3.6.2)\n",
      "Requirement already satisfied: cachetools<5.0,>=2.0.0 in c:\\python38\\lib\\site-packages (from google-auth<2,>=1.6.3->tensorboard<3,>=2.3.0->tensorflow->object_detection) (4.1.1)\n",
      "Requirement already satisfied: rsa<5,>=3.1.4; python_version >= \"3.5\" in c:\\python38\\lib\\site-packages (from google-auth<2,>=1.6.3->tensorboard<3,>=2.3.0->tensorflow->object_detection) (4.6)\n",
      "Requirement already satisfied: pyasn1-modules>=0.2.1 in c:\\python38\\lib\\site-packages (from google-auth<2,>=1.6.3->tensorboard<3,>=2.3.0->tensorflow->object_detection) (0.2.8)\n",
      "Requirement already satisfied: chardet<4,>=3.0.2 in c:\\python38\\lib\\site-packages (from requests<3,>=2.21.0->tensorboard<3,>=2.3.0->tensorflow->object_detection) (3.0.4)\n",
      "Requirement already satisfied: urllib3!=1.25.0,!=1.25.1,<1.26,>=1.21.1 in c:\\python38\\lib\\site-packages (from requests<3,>=2.21.0->tensorboard<3,>=2.3.0->tensorflow->object_detection) (1.25.10)\n",
      "Requirement already satisfied: idna<3,>=2.5 in c:\\python38\\lib\\site-packages (from requests<3,>=2.21.0->tensorboard<3,>=2.3.0->tensorflow->object_detection) (2.10)\n",
      "Requirement already satisfied: pycparser in c:\\python38\\lib\\site-packages (from cffi>=1.0.0->argon2-cffi->notebook->jupyter->object_detection) (2.20)\n",
      "Requirement already satisfied: pyrsistent>=0.14.0 in c:\\python38\\lib\\site-packages (from jsonschema!=2.5.0,>=2.4->nbformat->notebook->jupyter->object_detection) (0.17.3)\n",
      "Requirement already satisfied: attrs>=17.4.0 in c:\\python38\\lib\\site-packages (from jsonschema!=2.5.0,>=2.4->nbformat->notebook->jupyter->object_detection) (20.2.0)\n",
      "Requirement already satisfied: parso<0.8.0,>=0.7.0 in c:\\python38\\lib\\site-packages (from jedi>=0.10->ipython>=5.0.0->ipykernel->jupyter->object_detection) (0.7.1)\n",
      "Requirement already satisfied: oauthlib>=3.0.0 in c:\\python38\\lib\\site-packages (from requests-oauthlib>=0.7.0->google-auth-oauthlib<0.5,>=0.4.1->tensorboard<3,>=2.3.0->tensorflow->object_detection) (3.1.0)\n",
      "Requirement already satisfied: yarl<2.0,>=1.0 in c:\\python38\\lib\\site-packages (from aiohttp<4.0.0dev,>=3.6.2; python_version >= \"3.6\"->google-auth<2,>=1.6.3->tensorboard<3,>=2.3.0->tensorflow->object_detection) (1.6.0)\n",
      "Requirement already satisfied: async-timeout<4.0,>=3.0 in c:\\python38\\lib\\site-packages (from aiohttp<4.0.0dev,>=3.6.2; python_version >= \"3.6\"->google-auth<2,>=1.6.3->tensorboard<3,>=2.3.0->tensorflow->object_detection) (3.0.1)\n",
      "Requirement already satisfied: multidict<5.0,>=4.5 in c:\\python38\\lib\\site-packages (from aiohttp<4.0.0dev,>=3.6.2; python_version >= \"3.6\"->google-auth<2,>=1.6.3->tensorboard<3,>=2.3.0->tensorflow->object_detection) (4.7.6)\n",
      "Requirement already satisfied: pyasn1>=0.1.3 in c:\\python38\\lib\\site-packages (from rsa<5,>=3.1.4; python_version >= \"3.5\"->google-auth<2,>=1.6.3->tensorboard<3,>=2.3.0->tensorflow->object_detection) (0.4.8)\n"
     ]
    }
   ],
   "source": [
    "!pip install pycocotools\n",
    "!pip install object_detection"
   ]
  },
  {
   "cell_type": "code",
   "execution_count": 23,
   "metadata": {},
   "outputs": [
    {
     "ename": "ImportError",
     "evalue": "cannot import name 'string_int_label_map_pb2' from 'object_detection.protos' (c:\\python38\\lib\\site-packages\\object_detection\\protos\\__init__.py)",
     "output_type": "error",
     "traceback": [
      "\u001b[1;31m---------------------------------------------------------------------------\u001b[0m",
      "\u001b[1;31mImportError\u001b[0m                               Traceback (most recent call last)",
      "\u001b[1;32m<ipython-input-23-12977e4517e9>\u001b[0m in \u001b[0;36m<module>\u001b[1;34m\u001b[0m\n\u001b[0;32m      1\u001b[0m \u001b[1;31m#import object detection modules\u001b[0m\u001b[1;33m\u001b[0m\u001b[1;33m\u001b[0m\u001b[1;33m\u001b[0m\u001b[0m\n\u001b[0;32m      2\u001b[0m \u001b[1;32mfrom\u001b[0m \u001b[0mobject_detection\u001b[0m\u001b[1;33m.\u001b[0m\u001b[0mutils\u001b[0m \u001b[1;32mimport\u001b[0m \u001b[0mops\u001b[0m \u001b[1;32mas\u001b[0m \u001b[0mutils_ops\u001b[0m\u001b[1;33m\u001b[0m\u001b[1;33m\u001b[0m\u001b[0m\n\u001b[1;32m----> 3\u001b[1;33m \u001b[1;32mfrom\u001b[0m \u001b[0mobject_detection\u001b[0m\u001b[1;33m.\u001b[0m\u001b[0mutils\u001b[0m \u001b[1;32mimport\u001b[0m \u001b[0mlabel_map_util\u001b[0m\u001b[1;33m\u001b[0m\u001b[1;33m\u001b[0m\u001b[0m\n\u001b[0m\u001b[0;32m      4\u001b[0m \u001b[1;32mfrom\u001b[0m \u001b[0mobject_detection\u001b[0m\u001b[1;33m.\u001b[0m\u001b[0mutils\u001b[0m \u001b[1;32mimport\u001b[0m \u001b[0mvisualization_utils\u001b[0m \u001b[1;32mas\u001b[0m \u001b[0mvis_util\u001b[0m\u001b[1;33m\u001b[0m\u001b[1;33m\u001b[0m\u001b[0m\n",
      "\u001b[1;32mc:\\python38\\lib\\site-packages\\object_detection\\utils\\label_map_util.py\u001b[0m in \u001b[0;36m<module>\u001b[1;34m\u001b[0m\n\u001b[0;32m     19\u001b[0m \u001b[1;32mimport\u001b[0m \u001b[0mtensorflow\u001b[0m \u001b[1;32mas\u001b[0m \u001b[0mtf\u001b[0m\u001b[1;33m\u001b[0m\u001b[1;33m\u001b[0m\u001b[0m\n\u001b[0;32m     20\u001b[0m \u001b[1;32mfrom\u001b[0m \u001b[0mgoogle\u001b[0m\u001b[1;33m.\u001b[0m\u001b[0mprotobuf\u001b[0m \u001b[1;32mimport\u001b[0m \u001b[0mtext_format\u001b[0m\u001b[1;33m\u001b[0m\u001b[1;33m\u001b[0m\u001b[0m\n\u001b[1;32m---> 21\u001b[1;33m \u001b[1;32mfrom\u001b[0m \u001b[0mobject_detection\u001b[0m\u001b[1;33m.\u001b[0m\u001b[0mprotos\u001b[0m \u001b[1;32mimport\u001b[0m \u001b[0mstring_int_label_map_pb2\u001b[0m\u001b[1;33m\u001b[0m\u001b[1;33m\u001b[0m\u001b[0m\n\u001b[0m\u001b[0;32m     22\u001b[0m \u001b[1;33m\u001b[0m\u001b[0m\n\u001b[0;32m     23\u001b[0m \u001b[1;33m\u001b[0m\u001b[0m\n",
      "\u001b[1;31mImportError\u001b[0m: cannot import name 'string_int_label_map_pb2' from 'object_detection.protos' (c:\\python38\\lib\\site-packages\\object_detection\\protos\\__init__.py)"
     ]
    }
   ],
   "source": [
    "#import object detection modules\n",
    "from object_detection.utils import ops as utils_ops\n",
    "from object_detection.utils import label_map_util\n",
    "from object_detection.utils import visualization_utils as vis_util"
   ]
  },
  {
   "cell_type": "code",
   "execution_count": null,
   "metadata": {},
   "outputs": [],
   "source": []
  }
 ],
 "metadata": {
  "kernelspec": {
   "display_name": "Python 3",
   "language": "python",
   "name": "python3"
  },
  "language_info": {
   "codemirror_mode": {
    "name": "ipython",
    "version": 3
   },
   "file_extension": ".py",
   "mimetype": "text/x-python",
   "name": "python",
   "nbconvert_exporter": "python",
   "pygments_lexer": "ipython3",
   "version": "3.8.3"
  }
 },
 "nbformat": 4,
 "nbformat_minor": 4
}

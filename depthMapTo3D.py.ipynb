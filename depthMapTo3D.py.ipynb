{
 "metadata": {
  "language_info": {
   "codemirror_mode": {
    "name": "ipython",
    "version": 3
   },
   "file_extension": ".py",
   "mimetype": "text/x-python",
   "name": "python",
   "nbconvert_exporter": "python",
   "pygments_lexer": "ipython3",
   "version": "3.8.5-final"
  },
  "orig_nbformat": 2,
  "kernelspec": {
   "name": "python3",
   "display_name": "Python 3.8.5 64-bit",
   "metadata": {
    "interpreter": {
     "hash": "31f2aee4e71d21fbe5cf8b01ff0e069b9275f58929596ceb00d14d90e3e16cd6"
    }
   }
  }
 },
 "nbformat": 4,
 "nbformat_minor": 2,
 "cells": [
  {
   "cell_type": "code",
   "execution_count": 47,
   "metadata": {},
   "outputs": [],
   "source": [
    "# THIS IS A TESTING NOTEBOOK NOT COMPLETE CODE\n",
    "import matplotlib.pyplot as plt\n",
    "import cv2\n",
    "import numpy as np\n",
    "import math"
   ]
  },
  {
   "cell_type": "code",
   "execution_count": 54,
   "metadata": {},
   "outputs": [],
   "source": [
    "\n",
    "img = cv2.imread(\"800.png\")\n",
    "img = cv2.cvtColor(img, cv2.COLOR_BGR2GRAY)\n",
    "FOV = 3.14/4\n",
    "D = (img.shape[0]/2)/math.tan(FOV/2)\n"
   ]
  },
  {
   "cell_type": "code",
   "execution_count": 55,
   "metadata": {},
   "outputs": [
    {
     "output_type": "stream",
     "name": "stdout",
     "text": [
      "The cython extension is already loaded. To reload it, use:\n  %reload_ext cython\n"
     ]
    }
   ],
   "source": [
    "%load_ext cython"
   ]
  },
  {
   "cell_type": "code",
   "execution_count": 56,
   "metadata": {},
   "outputs": [
    {
     "output_type": "stream",
     "name": "stderr",
     "text": [
      "\nError compiling Cython file:\n------------------------------------------------------------\n...\n    # grab the image dimensions\n    h = img.shape[0]\n    w = img.shape[1]\n\n    with open(\"output.txt\",\"w\") as f:\n        ids = np.zeros((img.shape[1], img.shape[0]), int)\n             ^\n------------------------------------------------------------\n\n/home/clear/.cache/ipython/cython/_cython_magic_3581bf104cc3222322d96ff4727d2ae8.pyx:11:14: undeclared name not builtin: np\n\nError compiling Cython file:\n------------------------------------------------------------\n...\n        vid = 1\n    # loop over the image\n        for y in range(0, h):\n            for x in range(0, w):\n                # threshold the pixel\n                d = img[v, u]\n                       ^\n------------------------------------------------------------\n\n/home/clear/.cache/ipython/cython/_cython_magic_3581bf104cc3222322d96ff4727d2ae8.pyx:17:24: undeclared name not builtin: v\n\nError compiling Cython file:\n------------------------------------------------------------\n...\n        vid = 1\n    # loop over the image\n        for y in range(0, h):\n            for x in range(0, w):\n                # threshold the pixel\n                d = img[v, u]\n                          ^\n------------------------------------------------------------\n\n/home/clear/.cache/ipython/cython/_cython_magic_3581bf104cc3222322d96ff4727d2ae8.pyx:17:27: undeclared name not builtin: u\n\nError compiling Cython file:\n------------------------------------------------------------\n...\n                    ids[u,v] = 0\n                vid += 1\n\n                x = u - w/2\n                y = v - h/2\n                z = -D\n                    ^\n------------------------------------------------------------\n\n/home/clear/.cache/ipython/cython/_cython_magic_3581bf104cc3222322d96ff4727d2ae8.pyx:26:21: undeclared name not builtin: D\n\nError compiling Cython file:\n------------------------------------------------------------\n...\n\n                x = u - w/2\n                y = v - h/2\n                z = -D\n\n                norm = 1 / math.sqrt(x*x + y*y + z*z)\n                          ^\n------------------------------------------------------------\n\n/home/clear/.cache/ipython/cython/_cython_magic_3581bf104cc3222322d96ff4727d2ae8.pyx:28:27: undeclared name not builtin: math\n"
     ]
    }
   ],
   "source": [
    "%%cython -a\n",
    "import cython\n",
    "@cython.boundscheck(False)\n",
    "cpdef unsigned char[:, :] threshold_fast(int T, unsigned char [:, :] img):\n",
    "    # set the variable extension types\n",
    "    cdef int x, y, w, h\n",
    "    # grab the image dimensions\n",
    "    h = img.shape[0]\n",
    "    w = img.shape[1]\n",
    "\n",
    "    with open(\"output.txt\",\"w\") as f:\n",
    "        ids = np.zeros((img.shape[1], img.shape[0]), int)\n",
    "        vid = 1\n",
    "    # loop over the image\n",
    "        for y in range(0, h):\n",
    "            for x in range(0, w):\n",
    "                # threshold the pixel\n",
    "                d = img[v, u]\n",
    "\n",
    "                ids[u,v] = vid\n",
    "                if d == 0.0:\n",
    "                    ids[u,v] = 0\n",
    "                vid += 1\n",
    "\n",
    "                x = u - w/2\n",
    "                y = v - h/2\n",
    "                z = -D\n",
    "\n",
    "                norm = 1 / math.sqrt(x*x + y*y + z*z)\n",
    "\n",
    "                t = d/(z*norm)\n",
    "\n",
    "                x = -t*x*norm\n",
    "                y = t*y*norm\n",
    "                z = -t*z*norm        \n",
    "\n",
    "                f.write(\"v \" + str(x) + \" \" + str(y) + \" \" + str(z) + \"\\n\")\n",
    "    \n",
    "   "
   ]
  },
  {
   "cell_type": "code",
   "execution_count": 15,
   "metadata": {},
   "outputs": [],
   "source": [
    "image = cv2.imread(\"800.png\")"
   ]
  },
  {
   "cell_type": "code",
   "execution_count": 35,
   "metadata": {
    "tags": []
   },
   "outputs": [
    {
     "output_type": "stream",
     "name": "stdout",
     "text": [
      "255\n"
     ]
    },
    {
     "output_type": "execute_result",
     "data": {
      "text/plain": [
       "<MemoryView of 'ndarray' at 0x7fbcd6a9aa00>"
      ]
     },
     "metadata": {},
     "execution_count": 35
    }
   ],
   "source": [
    "threshold_fast(5, image)"
   ]
  },
  {
   "cell_type": "code",
   "execution_count": 14,
   "metadata": {},
   "outputs": [
    {
     "output_type": "stream",
     "name": "stdout",
     "text": [
      "3.07 s ± 57.1 ms per loop (mean ± std. dev. of 7 runs, 1 loop each)\n"
     ]
    }
   ],
   "source": [
    "%timeit threshold_slow(5, image)"
   ]
  },
  {
   "cell_type": "code",
   "execution_count": null,
   "metadata": {},
   "outputs": [],
   "source": []
  }
 ]
}